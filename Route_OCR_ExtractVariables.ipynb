{
  "nbformat": 4,
  "nbformat_minor": 0,
  "metadata": {
    "colab": {
      "name": "Route_OCR_ExtractVariables.ipynb",
      "provenance": [],
      "collapsed_sections": []
    },
    "kernelspec": {
      "name": "python2",
      "display_name": "Python 2"
    }
  },
  "cells": [
    {
      "metadata": {
        "id": "uWwpI-24_Nob"
      },
      "cell_type": "code",
      "source": [
        "#install tesseract\n",
        "#!sudo apt install tesseract-ocr"
      ],
      "execution_count": 27,
      "outputs": []
    },
    {
      "metadata": {
        "id": "ujL16dZ2_O-3"
      },
      "cell_type": "code",
      "source": [
        "#install pytesseract (python wrapper)\n",
        "#!pip install pytesseract"
      ],
      "execution_count": 28,
      "outputs": []
    },
    {
      "cell_type": "code",
      "source": [
        "#mount drive to get dashcam video\n",
        "from google.colab import drive\n",
        "drive.mount('/content/drive')"
      ],
      "metadata": {
        "colab": {
          "base_uri": "https://localhost:8080/"
        },
        "id": "KwsOJGmSKJuv",
        "outputId": "158dfbf4-81b9-4f88-8cdc-635bf10b7273"
      },
      "execution_count": 29,
      "outputs": [
        {
          "output_type": "stream",
          "name": "stdout",
          "text": [
            "Drive already mounted at /content/drive; to attempt to forcibly remount, call drive.mount(\"/content/drive\", force_remount=True).\n"
          ]
        }
      ]
    },
    {
      "metadata": {
        "id": "QKJh7JjTAqzO"
      },
      "cell_type": "code",
      "source": [
        "import pytesseract\n",
        "import shutil\n",
        "import os\n",
        "import random\n",
        "from PIL import Image"
      ],
      "execution_count": 30,
      "outputs": []
    },
    {
      "metadata": {
        "id": "8zmc-K_nAyg1"
      },
      "cell_type": "code",
      "source": [
        "#get frames\n",
        "\n",
        "import cv2\n",
        "import numpy as np\n",
        "from numpy import asarray\n",
        " \n",
        "frames = []\n",
        "#this video resolution reduced by .25\n",
        "path = \"/content/drive/MyDrive/digitRecon/testVids/readingTest2.MP4\"\n",
        "cap = cv2.VideoCapture(path)\n",
        "ret = True\n",
        "while ret:\n",
        "    ret, img = cap.read() # read one frame from the 'capture' object; img is (H, W, C)\n",
        "    if ret:\n",
        "        frames.append(img)"
      ],
      "execution_count": 31,
      "outputs": []
    },
    {
      "cell_type": "code",
      "source": [
        "#chop down frames\n",
        "nth = 40 # n frames to get data from in video\n",
        "xframes = frames[nth-1::nth]\n",
        "print(len(xframes))"
      ],
      "metadata": {
        "colab": {
          "base_uri": "https://localhost:8080/"
        },
        "id": "URDp5l8YLSk_",
        "outputId": "5200d7ac-03f1-4018-8179-a8dfb39177b5"
      },
      "execution_count": 32,
      "outputs": [
        {
          "output_type": "stream",
          "name": "stdout",
          "text": [
            "134\n"
          ]
        }
      ]
    },
    {
      "cell_type": "code",
      "source": [
        "#image display\n",
        "def displayIm(cv2Image):\n",
        "  im = Image.fromarray(cv2Image)\n",
        "  im = im.convert('RGB')\n",
        "  return im"
      ],
      "metadata": {
        "id": "z7qURIrX1IEd"
      },
      "execution_count": 33,
      "outputs": []
    },
    {
      "cell_type": "code",
      "source": [
        "from PIL import ImageOps\n",
        "from PIL import ImageEnhance\n",
        "\n",
        "#image processing\n",
        "def imageProcVariable(CV2im):\n",
        "  #convert to pil\n",
        "  im_pil = Image.fromarray(CV2im)\n",
        "  im_pil = im_pil.convert('RGB')\n",
        "\n",
        "  #greyscale\n",
        "  gray_image = ImageOps.grayscale(im_pil)\n",
        "\n",
        "  #invert\n",
        "  inv = ImageOps.invert(gray_image)\n",
        "\n",
        "  #enhance contrast\n",
        "  enh = ImageEnhance.Contrast(inv)\n",
        "  enh = enh.enhance(2)\n",
        "\n",
        "  #binarize\n",
        "  threshold = 118\n",
        "  thresh = enh.point( lambda p: 255 if p > threshold else 0 )\n",
        "  bw = thresh.convert('1')\n",
        "\n",
        "  return bw"
      ],
      "metadata": {
        "id": "r9V831LBU27y"
      },
      "execution_count": 34,
      "outputs": []
    },
    {
      "metadata": {
        "id": "Key-3vILBNUd"
      },
      "cell_type": "code",
      "source": [
        "#text formatting\n",
        "import re\n",
        "def formatOCR(info):\n",
        "  #replace 'B' and 'O' if mistaken\n",
        "  ex = info.replace('B','8')\n",
        "  ex = ex.replace('O','0')\n",
        "\n",
        "  #remove any extra characters\n",
        "  rex = re.sub(r\"[^a-zA-Z0-9.]\",\" \",ex)\n",
        "\n",
        "  #remove trailing . or space\n",
        "  rex = rex.rstrip(\" \")\n",
        "  rex = rex.rstrip(\".\")\n",
        "\n",
        "  #replace mid space with '.'\n",
        "  rex = rex.replace(\" \", \".\")\n",
        "\n",
        "  #replace .. with .\n",
        "  rex = rex.replace(\"..\", \".\")\n",
        "  return rex\n",
        "\n",
        "def formatSpeed(info):\n",
        "  rex = re.sub(r\"[^0-9]\",\"\",info)\n",
        "  return rex"
      ],
      "execution_count": 35,
      "outputs": []
    },
    {
      "cell_type": "code",
      "source": [
        "#lists to store variables in\n",
        "longs = []\n",
        "lats = []\n",
        "sps = []"
      ],
      "metadata": {
        "id": "C5Q7EIlYLNMP"
      },
      "execution_count": 36,
      "outputs": []
    },
    {
      "cell_type": "code",
      "source": [
        "for img in xframes:\n",
        "  #get sections of frame that contain the values\n",
        "  longIm = img[252:264,259:305,:]\n",
        "  latIm = img[252:264,305:356,:]\n",
        "  speedIm = img[252:264,380:420,:]\n",
        "\n",
        "  #image process\n",
        "  longImProc = imageProcVariable(longIm)\n",
        "  latImProc = imageProcVariable(latIm)\n",
        "  speedImProc = imageProcVariable(speedIm)\n",
        "\n",
        "  #extract text\n",
        "  extractedLong = pytesseract.image_to_string(longImProc,config='--psm 7 -c tessedit_char_whitelist=NSEW0123456789.')\n",
        "  extractedLat = pytesseract.image_to_string(latImProc,config='--psm 7 -c tessedit_char_whitelist=NSEW0123456789.')\n",
        "  extractedSpeed = pytesseract.image_to_string(speedImProc,config='--psm 7 -c tessedit_char_whitelist=0123456789')\n",
        "\n",
        "  #format text\n",
        "  longitude = formatOCR(extractedLong)\n",
        "  latitude = formatOCR(extractedLat)\n",
        "  speed = formatSpeed(extractedSpeed)\n",
        "\n",
        "  #append to relevant arrays\n",
        "  longs.append(longitude)\n",
        "  lats.append(latitude)\n",
        "  sps.append(speed)"
      ],
      "metadata": {
        "id": "BLZgZOpEMdOY"
      },
      "execution_count": 37,
      "outputs": []
    },
    {
      "cell_type": "code",
      "source": [
        "print(\"longitudes:\", longs)\n",
        "print(\"latitudes:\", lats)\n",
        "print(\"speeds(mph):\", sps)"
      ],
      "metadata": {
        "colab": {
          "base_uri": "https://localhost:8080/"
        },
        "id": "GTl-uTZEqHD2",
        "outputId": "3c4407e3-56dc-4417-9188-3ae1c049eece"
      },
      "execution_count": 38,
      "outputs": [
        {
          "output_type": "stream",
          "name": "stdout",
          "text": [
            "longitudes: ['1.113', 'M1.112', 'Wi.itz', 'M1.182', 'W..4.I.ip', 'Wie.tili', 'Wi.itt', '1.110', '41.110', 'W1.110', '1.109', '1.109', 'W1.109', 'W1.108', '.1.108', 'W1.108', '41.107', '1.107', 'W1.107', 'W1.106', 'Wi.106', '1..106', '12.4.UG', 'W105', 'Wi.105', 'W7.105', 'W1.104', 'W1.104', 'W1.104', 'W1.104', 'W1.103', 'W1.103', 'W1.103', 'W1.103', 'W1.102', 'W1.102', 'W1.102', 'W1.102', 'W1.101', 'W1.101', 'W1.101', 'W1.101', 'W1.101', 'W1.100', '0T.tialal', '11..00', 'Hee', 'TI.0P.e', 'Wl.ore', '41.098', '11.095', '41.G98', '14.09.0', 'etre', 'Wibwiee.ar', 'seers', 'Hi.svre', '91.J0P', '11.076', '11.V6', 'Tow.eo', 'Teo', '', 'Wie', 'W1.695', 'W1.S95', 'W1.095', 'W1.G94', 'W1.094', 'W1.094', 'W1.094', 'W1.094', 'W1.094', 'WT.094', '71.094', 'W1.094', 'W1.094', 'W1.694', 'W1.G93', 'W1.093', '71.093', '71.093', 'W1.093', '41.093', '71.093', 'W1.092', '71.092', 'W1.092', 'W1.G92', 'W1.091', '41.091', 'W1.091', 'W1.091', 'W1.390', '71.090', '71.090', '71.090', 'W1.0s', 'W1.039', 'W1.039', '71.085', '71.085', '41.085', 'W1.037', 'W1.087', 'W1.087', 'W1.036', '41.036', 'W1.G36', '41.036', '41.0385', 'W1.0385', 'W1.385', '91.6385', 'W1.6385', '91.G84', '41.084', 'W1.084', 'W1.d84', '41.083', 'W1.083', 'W1.083', 'W1.083', 'W1.083', 'W1.083', 'W1.082', 'W1.082', '41.682', 'W1.082', 'oT.aida', 'T.See', 'Wl.Qsz', '41.082', 'Wl.Uos']\n",
            "latitudes: ['N53.4527', 'N53.451', 'N53.451', 'N53.451', 'W653.450', 'NS3.450', 'NS3.450', 'N53.449', 'N53.449', 'N53.449', 'NS3.448', 'N53.448', 'NS3.448', 'N53.448', 'NS3.447', 'NS3.447', 'N53.447', 'NS3.446', 'N53.446', 'N53.446', 'NS3.445', 'NSS.aqg5', 'NGS..445', 'N63.444', 'NS3.444', 'N63.444', 'N53.443', 'N53.443', 'NS3.443', 'N53.443', 'N53.442', 'N53.447', 'N53.4427', 'N53.441', 'N53.441', 'N53.441', 'N53.440', 'N53.440', 'N53.440', 'N53.439', 'N53.439', 'N53.439', 'N53.4358', 'N53.438', 'nG3.435', 'N53.437', 'NGS.437', 'NSS.437', 'N63.436', 'N63.436', 'NS3.436', 'N53.435', 'N63.435', 'N53.435', 'N63.495', 'Nb.3.434', 'NS3.434', 'N53.49q', 'N63.495', 'N63.4330', 'NSS.4330', 'N53.432', 'NGS.4327', 'N63.437', 'N63.431', 'NS3.437', 'N53.437', 'N63.430', 'N53.490', 'N53.430', 'N53.479', 'N53.479', 'N53.479', 'N53.4278', 'N53.478', 'NS3.478', 'NS3.427', 'NS3.427', 'N53.4276', 'N53.426', 'N53.426', 'NS3.4275', 'N53.4275', 'N53.475', 'NS3.474', 'N53.4274', 'N53.474', 'N53.423', 'NS3.423', 'NS3.423', 'NS3.422', 'NS3.422', 'N53.422', 'N53.427', 'N53.427', 'N53.4271', 'N53.4270', 'N53.470', 'N53.470', 'N53.470', 'N53.419', 'N53.419', 'N53.419', 'N53.418', 'N53.418', 'N53.418', 'N53.417', 'NS3.417', 'N53.417', 'N53.416', 'N53.416', 'N53.416', 'N53.415', 'N53.415', 'NS3.415', 'NS.414', 'N53.414', 'N53.414', 'N53.413', 'N53.413', 'N53.413', 'N53.412', 'N53.412', 'N53.412', 'N53.411', 'N53.411', 'N53.411', 'N53.410', 'N53.410', 'eee', 'N53.409', 'N53.4097', 'N63.409', 'N63.408']\n",
            "speeds(mph): ['69', '', '', '', '', '', '69', '', '', '69', '69', '68', '68', '68', '7', '7', '7', '7', '67', '7', '68', '68', '69', '63', '68', '69', '68', '68', '68', '7', '7', '66', '66', '7', '7', '7', '7', '68', '68', '68', '69', '69', '69', '69', '68', '', '66', '65', '4', '64', '64', '64', '6', '', '', '65', '65', '65', '66', '6', '6', '63', '2', '64', '63', '3', '63', '', '', '65', '66', '', '68', '68', '69', '69', '69', '69', '68', '69', '69', '69', '68', '68', '6', '67', '7', '66', '66', '66', '66', '65', '65', '65', '65', '65', '66', '66', '66', '66', '7', '7', '7', '7', '66', '66', '65', '65', '65', '64', '6', '65', '65', '65', '65', '66', '64', '64', '66', '64', '66', '7', '7', '7', '7', '66', '66', '', '7', '', '639', '69', '7', '']\n"
          ]
        }
      ]
    },
    {
      "cell_type": "code",
      "source": [
        "longVals = ['W', 'E']\n",
        "latVals = ['N', 'S']\n",
        "\n",
        "#converts bool list to list of indices that haven't been removed 'False's\n",
        "def boolToIndex(boolList):\n",
        "  notRemovedInd = []\n",
        "  for i in range (0,len(removedBool)):\n",
        "    if removedBool[i] == False:\n",
        "      notRemovedInd.append(i)\n",
        "  return notRemovedInd"
      ],
      "metadata": {
        "id": "GjqWPKlnVc0M"
      },
      "execution_count": 39,
      "outputs": []
    },
    {
      "cell_type": "markdown",
      "source": [
        "#Long-Latitude Reference\n",
        "Latitude Range: +49.9 -> +60.84\n",
        "Longitude Range: +1.77 -> -8.62"
      ],
      "metadata": {
        "id": "j-OcL33uZMb2"
      }
    },
    {
      "cell_type": "code",
      "source": [
        "#filter longitudes and latitudes to those that make sense\n",
        "#remember if one is incorrect - both will have to go incl speed\n",
        "#[Note that this notebook does not fix the speed value as not needed for plotting]\n",
        "#when removing, save index for future removals of other items\n",
        "\n",
        "removedBool = [False] * len(longs) #array of bools, True if item removed\n",
        "\n",
        "longVals = ['W', 'E']\n",
        "latVals = ['N', 'S']\n",
        "#longitude----------------------------------------\n",
        "for i in range(0, len(longs)):\n",
        "  #remove if beginning doesn't begin with W or E\n",
        "  try:\n",
        "    if longs[i][0] not in longVals:\n",
        "      removedBool[i] = True\n",
        "\n",
        "    #if more than one letter in prediction\n",
        "    if len(re.sub(\"[^a-zA-Z]\", \"\", longs[i])) > 1:\n",
        "      removedBool[i] = True\n",
        "\n",
        "    #if more than one '.' or none, remove\n",
        "    if len(re.sub(\"[^.]\", \"\", longs[i])) > 1:\n",
        "      removedBool[i] = True\n",
        "    \n",
        "    if len(re.sub(\"[^.]\", \"\", longs[i])) == 0:\n",
        "      removedBool[i] = True\n",
        "\n",
        "  except:\n",
        "    #if its completely empty also remove\n",
        "    removedBool[i] = True\n",
        "\n",
        "#remove duplicates\n",
        "tempList = []\n",
        " \n",
        "for i in range(0, len(longs)):\n",
        "    if longs[i] not in tempList:\n",
        "        tempList.append(longs[i])\n",
        "    else:\n",
        "      #remove\n",
        "      removedBool[i] = True\n",
        "\n",
        "del tempList\n",
        "\n",
        "#check if drastically different\n",
        "\n",
        "#convert current bool list to indices of not removed\n",
        "notRemovedInd = boolToIndex(removedBool)\n",
        "\n",
        "\n",
        "#check forward values\n",
        "for i in range(0,len(notRemovedInd)-1):\n",
        "  #only check ones that haven't been removed\n",
        "    try:\n",
        "      if abs(float(longs[notRemovedInd[i]][1:]) - float(longs[notRemovedInd[i+1]][1:])) > 0.003:\n",
        "        removedBool[notRemovedInd[i]] = True\n",
        "    except:#item isn't a valid coord\n",
        "      removedBool[notRemovedInd[i]] = True\n",
        "\n",
        "\n",
        "#check behind values\n",
        "for i in range(1,len(notRemovedInd)):\n",
        "  #only check ones that haven't been removed\n",
        "    try:\n",
        "      if abs(float(longs[notRemovedInd[i]][1:]) - float(longs[notRemovedInd[i-1]][1:])) > 0.003:\n",
        "        removedBool[notRemovedInd[i]] = True\n",
        "    except:#item isn't a valid coord\n",
        "      removedBool[notRemovedInd[i]] = True\n",
        "\n",
        "\n",
        "#checker (print ones not removed yet)\n",
        "for i in range(0,len(removedBool)):\n",
        "  if removedBool[i] == False:\n",
        "    print(longs[i],lats[i])"
      ],
      "metadata": {
        "colab": {
          "base_uri": "https://localhost:8080/"
        },
        "id": "GgEdXo1iQmWi",
        "outputId": "d4b82dfd-77b3-4173-90e7-9b534aa1801c"
      },
      "execution_count": 40,
      "outputs": [
        {
          "output_type": "stream",
          "name": "stdout",
          "text": [
            "W1.110 N53.449\n",
            "W1.109 NS3.448\n",
            "W1.108 N53.448\n",
            "W1.107 N53.446\n",
            "W1.103 N53.442\n",
            "W1.102 N53.441\n",
            "W1.101 N53.440\n",
            "W1.092 N53.4274\n",
            "W1.083 N53.413\n",
            "W1.082 N53.411\n"
          ]
        }
      ]
    },
    {
      "cell_type": "code",
      "source": [
        "#change S to 5 in latitude values\n",
        "#this section (latitudes) may need more formatting for other videos if readings are not as accurate\n",
        "for i in range(0, len(lats)):\n",
        "  newLat = []\n",
        "  for c in range(0,len(lats[i])):\n",
        "    if c > 6:\n",
        "      break\n",
        "    if lats[i][c] == 'S':\n",
        "      newLat.append('5')\n",
        "    else:\n",
        "      newLat.append(lats[i][c])\n",
        "  lats[i] = ('').join(newLat)\n",
        "\n",
        "#check forward values\n",
        "for i in range(0,len(notRemovedInd)-1):\n",
        "  #only check ones that haven't been removed\n",
        "    try:\n",
        "      if abs(float(lats[notRemovedInd[i]][1:]) - float(lats[notRemovedInd[i+1]][1:])) > 0.003:\n",
        "        removedBool[notRemovedInd[i]] = True\n",
        "    except:#item isn't a valid coord\n",
        "      removedBool[notRemovedInd[i]] = True\n",
        "\n",
        "\n",
        "#check behind values\n",
        "for i in range(1,len(notRemovedInd)):\n",
        "  #only check ones that haven't been removed\n",
        "    try:\n",
        "      if abs(float(lats[notRemovedInd[i]][1:]) - float(lats[notRemovedInd[i-1]][1:])) > 0.003:\n",
        "        removedBool[notRemovedInd[i]] = True\n",
        "    except:#item isn't a valid coord\n",
        "      removedBool[notRemovedInd[i]] = True\n",
        "\n",
        "\n",
        "#checker (print ones not removed yet)\n",
        "for i in range(0,len(removedBool)):\n",
        "  if removedBool[i] == False:\n",
        "    print(lats[i])"
      ],
      "metadata": {
        "colab": {
          "base_uri": "https://localhost:8080/"
        },
        "id": "6Bo66xeJXKZJ",
        "outputId": "c314b6dc-8920-4e8c-f524-b78a675f78dc"
      },
      "execution_count": 41,
      "outputs": [
        {
          "output_type": "stream",
          "name": "stdout",
          "text": [
            "N53.449\n",
            "N53.448\n",
            "N53.448\n",
            "N53.446\n",
            "N53.442\n",
            "N53.441\n",
            "N53.440\n",
            "N53.413\n",
            "N53.411\n"
          ]
        }
      ]
    },
    {
      "cell_type": "code",
      "source": [
        "#convert bool values to relevant +/- values\n",
        "#Put latitude first\n",
        "#N = +; S = -; E = +; W = -\n",
        "\n",
        "filtCords = []\n",
        "#create list of filtered long/lats\n",
        "for i in range(0,len(removedBool)):\n",
        "  if removedBool[i] == False:\n",
        "    filtLat = lats[i]\n",
        "    if filtLat[0] == 'N':\n",
        "      filtLat = float(filtLat[1:])\n",
        "    else:\n",
        "      filtLat = - float(filtLat[1:])\n",
        "    filtLong = longs[i]\n",
        "    if filtLong[0] == 'E':\n",
        "      filtLong = float(filtLong[1:])\n",
        "    else:\n",
        "      filtLong = - float(filtLong[1:])\n",
        "    filtCords.append((filtLat,filtLong))\n",
        "\n",
        "print(filtCords)"
      ],
      "metadata": {
        "colab": {
          "base_uri": "https://localhost:8080/"
        },
        "id": "Qozg0rrRdyPn",
        "outputId": "139c7ef7-8f24-44b7-bc47-d2be54395b0e"
      },
      "execution_count": 42,
      "outputs": [
        {
          "output_type": "stream",
          "name": "stdout",
          "text": [
            "[(53.449, -1.11), (53.448, -1.109), (53.448, -1.108), (53.446, -1.107), (53.442, -1.103), (53.441, -1.102), (53.44, -1.101), (53.413, -1.083), (53.411, -1.082)]\n"
          ]
        }
      ]
    },
    {
      "cell_type": "code",
      "source": [
        "#plot route\n",
        "import folium\n",
        "import requests"
      ],
      "metadata": {
        "id": "aglY6l_DiQrS"
      },
      "execution_count": 43,
      "outputs": []
    },
    {
      "cell_type": "code",
      "source": [
        "map_object = folium.Map(location=filtCords[0], width = 800, height = 500, zoom_start=14)\n",
        "folium.TileLayer('stamentoner').add_to(map_object)"
      ],
      "metadata": {
        "colab": {
          "base_uri": "https://localhost:8080/"
        },
        "id": "mW7yl_qQjMd-",
        "outputId": "a1c71059-889e-422a-d296-3fc92a6611c3"
      },
      "execution_count": 44,
      "outputs": [
        {
          "output_type": "execute_result",
          "data": {
            "text/plain": [
              "<folium.raster_layers.TileLayer at 0x7fce9c7e3a90>"
            ]
          },
          "metadata": {},
          "execution_count": 44
        }
      ]
    },
    {
      "cell_type": "code",
      "source": [
        "#create paths from coords\n",
        "paths = []\n",
        "for i in range(0, len(filtCords)-1):\n",
        "  path = [filtCords[i], filtCords[i+1]]\n",
        "  paths.append(path)\n",
        "\n",
        "for p in paths:\n",
        "  folium.PolyLine(p,\n",
        "                  color='red',\n",
        "                  weight=10,\n",
        "                  opacity=0.8).add_to(map_object)"
      ],
      "metadata": {
        "id": "2A4EJqYmjM8p"
      },
      "execution_count": 45,
      "outputs": []
    },
    {
      "cell_type": "code",
      "source": [
        "map_object"
      ],
      "metadata": {
        "colab": {
          "base_uri": "https://localhost:8080/",
          "height": 968
        },
        "id": "F4_xOZ0JkPSH",
        "outputId": "d3e1fb1e-a0ac-4a79-b61c-88ad8a6b2569"
      },
      "execution_count": 46,
      "outputs": [
        {
          "output_type": "execute_result",
          "data": {
            "text/plain": [
              "<folium.folium.Map at 0x7fce9c7e3c10>"
            ],
            "text/html": [
              "<div style=\"width:100%;\"><div style=\"position:relative;width:100%;height:0;padding-bottom:60%;\"><span style=\"color:#565656\">Make this Notebook Trusted to load map: File -> Trust Notebook</span><iframe srcdoc=\"&lt;!DOCTYPE html&gt;\n",
              "&lt;head&gt;    \n",
              "    &lt;meta http-equiv=&quot;content-type&quot; content=&quot;text/html; charset=UTF-8&quot; /&gt;\n",
              "    &lt;script&gt;L_PREFER_CANVAS=false; L_NO_TOUCH=false; L_DISABLE_3D=false;&lt;/script&gt;\n",
              "    &lt;script src=&quot;https://cdn.jsdelivr.net/npm/leaflet@1.4.0/dist/leaflet.js&quot;&gt;&lt;/script&gt;\n",
              "    &lt;script src=&quot;https://code.jquery.com/jquery-1.12.4.min.js&quot;&gt;&lt;/script&gt;\n",
              "    &lt;script src=&quot;https://maxcdn.bootstrapcdn.com/bootstrap/3.2.0/js/bootstrap.min.js&quot;&gt;&lt;/script&gt;\n",
              "    &lt;script src=&quot;https://cdnjs.cloudflare.com/ajax/libs/Leaflet.awesome-markers/2.0.2/leaflet.awesome-markers.js&quot;&gt;&lt;/script&gt;\n",
              "    &lt;link rel=&quot;stylesheet&quot; href=&quot;https://cdn.jsdelivr.net/npm/leaflet@1.4.0/dist/leaflet.css&quot;/&gt;\n",
              "    &lt;link rel=&quot;stylesheet&quot; href=&quot;https://maxcdn.bootstrapcdn.com/bootstrap/3.2.0/css/bootstrap.min.css&quot;/&gt;\n",
              "    &lt;link rel=&quot;stylesheet&quot; href=&quot;https://maxcdn.bootstrapcdn.com/bootstrap/3.2.0/css/bootstrap-theme.min.css&quot;/&gt;\n",
              "    &lt;link rel=&quot;stylesheet&quot; href=&quot;https://maxcdn.bootstrapcdn.com/font-awesome/4.6.3/css/font-awesome.min.css&quot;/&gt;\n",
              "    &lt;link rel=&quot;stylesheet&quot; href=&quot;https://cdnjs.cloudflare.com/ajax/libs/Leaflet.awesome-markers/2.0.2/leaflet.awesome-markers.css&quot;/&gt;\n",
              "    &lt;link rel=&quot;stylesheet&quot; href=&quot;https://rawcdn.githack.com/python-visualization/folium/master/folium/templates/leaflet.awesome.rotate.css&quot;/&gt;\n",
              "    &lt;style&gt;html, body {width: 100%;height: 100%;margin: 0;padding: 0;}&lt;/style&gt;\n",
              "    &lt;style&gt;#map {position:absolute;top:0;bottom:0;right:0;left:0;}&lt;/style&gt;\n",
              "    \n",
              "    &lt;meta name=&quot;viewport&quot; content=&quot;width=device-width,\n",
              "        initial-scale=1.0, maximum-scale=1.0, user-scalable=no&quot; /&gt;\n",
              "    &lt;style&gt;#map_761eb73c1b61e4cab476c06e5ede8e9c {\n",
              "        position: relative;\n",
              "        width: 800.0px;\n",
              "        height: 500.0px;\n",
              "        left: 0.0%;\n",
              "        top: 0.0%;\n",
              "        }\n",
              "    &lt;/style&gt;\n",
              "&lt;/head&gt;\n",
              "&lt;body&gt;    \n",
              "    \n",
              "    &lt;div class=&quot;folium-map&quot; id=&quot;map_761eb73c1b61e4cab476c06e5ede8e9c&quot; &gt;&lt;/div&gt;\n",
              "&lt;/body&gt;\n",
              "&lt;script&gt;    \n",
              "    \n",
              "    \n",
              "        var bounds = null;\n",
              "    \n",
              "\n",
              "    var map_761eb73c1b61e4cab476c06e5ede8e9c = L.map(\n",
              "        &#x27;map_761eb73c1b61e4cab476c06e5ede8e9c&#x27;, {\n",
              "        center: [53.449, -1.11],\n",
              "        zoom: 14,\n",
              "        maxBounds: bounds,\n",
              "        layers: [],\n",
              "        worldCopyJump: false,\n",
              "        crs: L.CRS.EPSG3857,\n",
              "        zoomControl: true,\n",
              "        });\n",
              "\n",
              "\n",
              "    \n",
              "    var tile_layer_b5e997c41b21a4e223615f41d02c89f7 = L.tileLayer(\n",
              "        &#x27;https://{s}.tile.openstreetmap.org/{z}/{x}/{y}.png&#x27;,\n",
              "        {\n",
              "        &quot;attribution&quot;: null,\n",
              "        &quot;detectRetina&quot;: false,\n",
              "        &quot;maxNativeZoom&quot;: 18,\n",
              "        &quot;maxZoom&quot;: 18,\n",
              "        &quot;minZoom&quot;: 0,\n",
              "        &quot;noWrap&quot;: false,\n",
              "        &quot;opacity&quot;: 1,\n",
              "        &quot;subdomains&quot;: &quot;abc&quot;,\n",
              "        &quot;tms&quot;: false\n",
              "}).addTo(map_761eb73c1b61e4cab476c06e5ede8e9c);\n",
              "    var tile_layer_238aa9d040cc1e2572c09e4b03f92d43 = L.tileLayer(\n",
              "        &#x27;https://stamen-tiles-{s}.a.ssl.fastly.net/toner/{z}/{x}/{y}.png&#x27;,\n",
              "        {\n",
              "        &quot;attribution&quot;: null,\n",
              "        &quot;detectRetina&quot;: false,\n",
              "        &quot;maxNativeZoom&quot;: 18,\n",
              "        &quot;maxZoom&quot;: 18,\n",
              "        &quot;minZoom&quot;: 0,\n",
              "        &quot;noWrap&quot;: false,\n",
              "        &quot;opacity&quot;: 1,\n",
              "        &quot;subdomains&quot;: &quot;abc&quot;,\n",
              "        &quot;tms&quot;: false\n",
              "}).addTo(map_761eb73c1b61e4cab476c06e5ede8e9c);\n",
              "    \n",
              "                var poly_line_8d700121c4de70d61bf81ff54f2923af = L.polyline(\n",
              "                    [[53.449, -1.11], [53.448, -1.109]],\n",
              "                    {\n",
              "  &quot;bubblingMouseEvents&quot;: true,\n",
              "  &quot;color&quot;: &quot;red&quot;,\n",
              "  &quot;dashArray&quot;: null,\n",
              "  &quot;dashOffset&quot;: null,\n",
              "  &quot;fill&quot;: false,\n",
              "  &quot;fillColor&quot;: &quot;red&quot;,\n",
              "  &quot;fillOpacity&quot;: 0.2,\n",
              "  &quot;fillRule&quot;: &quot;evenodd&quot;,\n",
              "  &quot;lineCap&quot;: &quot;round&quot;,\n",
              "  &quot;lineJoin&quot;: &quot;round&quot;,\n",
              "  &quot;noClip&quot;: false,\n",
              "  &quot;opacity&quot;: 0.8,\n",
              "  &quot;smoothFactor&quot;: 1.0,\n",
              "  &quot;stroke&quot;: true,\n",
              "  &quot;weight&quot;: 10\n",
              "}\n",
              "                    )\n",
              "                    .addTo(map_761eb73c1b61e4cab476c06e5ede8e9c);\n",
              "            \n",
              "    \n",
              "                var poly_line_cd052f64cf22c14196cc2eecec326242 = L.polyline(\n",
              "                    [[53.448, -1.109], [53.448, -1.108]],\n",
              "                    {\n",
              "  &quot;bubblingMouseEvents&quot;: true,\n",
              "  &quot;color&quot;: &quot;red&quot;,\n",
              "  &quot;dashArray&quot;: null,\n",
              "  &quot;dashOffset&quot;: null,\n",
              "  &quot;fill&quot;: false,\n",
              "  &quot;fillColor&quot;: &quot;red&quot;,\n",
              "  &quot;fillOpacity&quot;: 0.2,\n",
              "  &quot;fillRule&quot;: &quot;evenodd&quot;,\n",
              "  &quot;lineCap&quot;: &quot;round&quot;,\n",
              "  &quot;lineJoin&quot;: &quot;round&quot;,\n",
              "  &quot;noClip&quot;: false,\n",
              "  &quot;opacity&quot;: 0.8,\n",
              "  &quot;smoothFactor&quot;: 1.0,\n",
              "  &quot;stroke&quot;: true,\n",
              "  &quot;weight&quot;: 10\n",
              "}\n",
              "                    )\n",
              "                    .addTo(map_761eb73c1b61e4cab476c06e5ede8e9c);\n",
              "            \n",
              "    \n",
              "                var poly_line_aa5e059aaa00d42289fad8e1f015caec = L.polyline(\n",
              "                    [[53.448, -1.108], [53.446, -1.107]],\n",
              "                    {\n",
              "  &quot;bubblingMouseEvents&quot;: true,\n",
              "  &quot;color&quot;: &quot;red&quot;,\n",
              "  &quot;dashArray&quot;: null,\n",
              "  &quot;dashOffset&quot;: null,\n",
              "  &quot;fill&quot;: false,\n",
              "  &quot;fillColor&quot;: &quot;red&quot;,\n",
              "  &quot;fillOpacity&quot;: 0.2,\n",
              "  &quot;fillRule&quot;: &quot;evenodd&quot;,\n",
              "  &quot;lineCap&quot;: &quot;round&quot;,\n",
              "  &quot;lineJoin&quot;: &quot;round&quot;,\n",
              "  &quot;noClip&quot;: false,\n",
              "  &quot;opacity&quot;: 0.8,\n",
              "  &quot;smoothFactor&quot;: 1.0,\n",
              "  &quot;stroke&quot;: true,\n",
              "  &quot;weight&quot;: 10\n",
              "}\n",
              "                    )\n",
              "                    .addTo(map_761eb73c1b61e4cab476c06e5ede8e9c);\n",
              "            \n",
              "    \n",
              "                var poly_line_190ea34b1010c22011ef5b99254bd6f1 = L.polyline(\n",
              "                    [[53.446, -1.107], [53.442, -1.103]],\n",
              "                    {\n",
              "  &quot;bubblingMouseEvents&quot;: true,\n",
              "  &quot;color&quot;: &quot;red&quot;,\n",
              "  &quot;dashArray&quot;: null,\n",
              "  &quot;dashOffset&quot;: null,\n",
              "  &quot;fill&quot;: false,\n",
              "  &quot;fillColor&quot;: &quot;red&quot;,\n",
              "  &quot;fillOpacity&quot;: 0.2,\n",
              "  &quot;fillRule&quot;: &quot;evenodd&quot;,\n",
              "  &quot;lineCap&quot;: &quot;round&quot;,\n",
              "  &quot;lineJoin&quot;: &quot;round&quot;,\n",
              "  &quot;noClip&quot;: false,\n",
              "  &quot;opacity&quot;: 0.8,\n",
              "  &quot;smoothFactor&quot;: 1.0,\n",
              "  &quot;stroke&quot;: true,\n",
              "  &quot;weight&quot;: 10\n",
              "}\n",
              "                    )\n",
              "                    .addTo(map_761eb73c1b61e4cab476c06e5ede8e9c);\n",
              "            \n",
              "    \n",
              "                var poly_line_2000ae6eeac4676f5f32393450aae574 = L.polyline(\n",
              "                    [[53.442, -1.103], [53.441, -1.102]],\n",
              "                    {\n",
              "  &quot;bubblingMouseEvents&quot;: true,\n",
              "  &quot;color&quot;: &quot;red&quot;,\n",
              "  &quot;dashArray&quot;: null,\n",
              "  &quot;dashOffset&quot;: null,\n",
              "  &quot;fill&quot;: false,\n",
              "  &quot;fillColor&quot;: &quot;red&quot;,\n",
              "  &quot;fillOpacity&quot;: 0.2,\n",
              "  &quot;fillRule&quot;: &quot;evenodd&quot;,\n",
              "  &quot;lineCap&quot;: &quot;round&quot;,\n",
              "  &quot;lineJoin&quot;: &quot;round&quot;,\n",
              "  &quot;noClip&quot;: false,\n",
              "  &quot;opacity&quot;: 0.8,\n",
              "  &quot;smoothFactor&quot;: 1.0,\n",
              "  &quot;stroke&quot;: true,\n",
              "  &quot;weight&quot;: 10\n",
              "}\n",
              "                    )\n",
              "                    .addTo(map_761eb73c1b61e4cab476c06e5ede8e9c);\n",
              "            \n",
              "    \n",
              "                var poly_line_a5414b1f5fe61ad54255ccbb69a6dc6c = L.polyline(\n",
              "                    [[53.441, -1.102], [53.44, -1.101]],\n",
              "                    {\n",
              "  &quot;bubblingMouseEvents&quot;: true,\n",
              "  &quot;color&quot;: &quot;red&quot;,\n",
              "  &quot;dashArray&quot;: null,\n",
              "  &quot;dashOffset&quot;: null,\n",
              "  &quot;fill&quot;: false,\n",
              "  &quot;fillColor&quot;: &quot;red&quot;,\n",
              "  &quot;fillOpacity&quot;: 0.2,\n",
              "  &quot;fillRule&quot;: &quot;evenodd&quot;,\n",
              "  &quot;lineCap&quot;: &quot;round&quot;,\n",
              "  &quot;lineJoin&quot;: &quot;round&quot;,\n",
              "  &quot;noClip&quot;: false,\n",
              "  &quot;opacity&quot;: 0.8,\n",
              "  &quot;smoothFactor&quot;: 1.0,\n",
              "  &quot;stroke&quot;: true,\n",
              "  &quot;weight&quot;: 10\n",
              "}\n",
              "                    )\n",
              "                    .addTo(map_761eb73c1b61e4cab476c06e5ede8e9c);\n",
              "            \n",
              "    \n",
              "                var poly_line_cb78922fe3f75424c360d9c1419bce75 = L.polyline(\n",
              "                    [[53.44, -1.101], [53.413, -1.083]],\n",
              "                    {\n",
              "  &quot;bubblingMouseEvents&quot;: true,\n",
              "  &quot;color&quot;: &quot;red&quot;,\n",
              "  &quot;dashArray&quot;: null,\n",
              "  &quot;dashOffset&quot;: null,\n",
              "  &quot;fill&quot;: false,\n",
              "  &quot;fillColor&quot;: &quot;red&quot;,\n",
              "  &quot;fillOpacity&quot;: 0.2,\n",
              "  &quot;fillRule&quot;: &quot;evenodd&quot;,\n",
              "  &quot;lineCap&quot;: &quot;round&quot;,\n",
              "  &quot;lineJoin&quot;: &quot;round&quot;,\n",
              "  &quot;noClip&quot;: false,\n",
              "  &quot;opacity&quot;: 0.8,\n",
              "  &quot;smoothFactor&quot;: 1.0,\n",
              "  &quot;stroke&quot;: true,\n",
              "  &quot;weight&quot;: 10\n",
              "}\n",
              "                    )\n",
              "                    .addTo(map_761eb73c1b61e4cab476c06e5ede8e9c);\n",
              "            \n",
              "    \n",
              "                var poly_line_e7a610a16e86592b3fa8152ce16bb7e4 = L.polyline(\n",
              "                    [[53.413, -1.083], [53.411, -1.082]],\n",
              "                    {\n",
              "  &quot;bubblingMouseEvents&quot;: true,\n",
              "  &quot;color&quot;: &quot;red&quot;,\n",
              "  &quot;dashArray&quot;: null,\n",
              "  &quot;dashOffset&quot;: null,\n",
              "  &quot;fill&quot;: false,\n",
              "  &quot;fillColor&quot;: &quot;red&quot;,\n",
              "  &quot;fillOpacity&quot;: 0.2,\n",
              "  &quot;fillRule&quot;: &quot;evenodd&quot;,\n",
              "  &quot;lineCap&quot;: &quot;round&quot;,\n",
              "  &quot;lineJoin&quot;: &quot;round&quot;,\n",
              "  &quot;noClip&quot;: false,\n",
              "  &quot;opacity&quot;: 0.8,\n",
              "  &quot;smoothFactor&quot;: 1.0,\n",
              "  &quot;stroke&quot;: true,\n",
              "  &quot;weight&quot;: 10\n",
              "}\n",
              "                    )\n",
              "                    .addTo(map_761eb73c1b61e4cab476c06e5ede8e9c);\n",
              "            \n",
              "&lt;/script&gt;\" style=\"position:absolute;width:100%;height:100%;left:0;top:0;border:none !important;\" allowfullscreen webkitallowfullscreen mozallowfullscreen></iframe></div></div>"
            ]
          },
          "metadata": {},
          "execution_count": 46
        }
      ]
    }
  ]
}