{
  "nbformat": 4,
  "nbformat_minor": 0,
  "metadata": {
    "colab": {
      "name": "OCR_ExtractVariables.ipynb",
      "provenance": [],
      "collapsed_sections": []
    },
    "kernelspec": {
      "name": "python2",
      "display_name": "Python 2"
    }
  },
  "cells": [
    {
      "metadata": {
        "id": "uWwpI-24_Nob"
      },
      "cell_type": "code",
      "source": [
        "#install tesseract\n",
        "#!sudo apt install tesseract-ocr"
      ],
      "execution_count": 150,
      "outputs": []
    },
    {
      "metadata": {
        "id": "ujL16dZ2_O-3"
      },
      "cell_type": "code",
      "source": [
        "#install pytesseract (python wrapper)\n",
        "#!pip install pytesseract"
      ],
      "execution_count": 151,
      "outputs": []
    },
    {
      "metadata": {
        "id": "QKJh7JjTAqzO"
      },
      "cell_type": "code",
      "source": [
        "import pytesseract\n",
        "import shutil\n",
        "import os\n",
        "import random\n",
        "from PIL import Image"
      ],
      "execution_count": 152,
      "outputs": []
    },
    {
      "metadata": {
        "id": "8zmc-K_nAyg1"
      },
      "cell_type": "code",
      "source": [
        "#upload dashcam frame\n",
        "# from google.colab import files\n",
        "# uploaded = files.upload()"
      ],
      "execution_count": 153,
      "outputs": []
    },
    {
      "cell_type": "code",
      "source": [
        "#image display\n",
        "def displayIm(cv2Image):\n",
        "  im = Image.fromarray(cv2Image)\n",
        "  im = im.convert('RGB')\n",
        "  return im"
      ],
      "metadata": {
        "id": "z7qURIrX1IEd"
      },
      "execution_count": 154,
      "outputs": []
    },
    {
      "cell_type": "code",
      "source": [
        "import cv2\n",
        "img = cv2.imread('/content/frame3.jpg')\n",
        "\n",
        "das = img[252:264,259:351,:]\n",
        "longIm = img[252:264,259:305,:]\n",
        "latIm = img[252:264,305:356,:]\n",
        "speedIm = img[252:264,380:420,:]\n",
        "\n",
        "displayIm(das)"
      ],
      "metadata": {
        "colab": {
          "base_uri": "https://localhost:8080/",
          "height": 34
        },
        "id": "GTl-uTZEqHD2",
        "outputId": "82b60539-16c5-4206-9289-cfcd2a7a79bf"
      },
      "execution_count": 155,
      "outputs": [
        {
          "output_type": "execute_result",
          "data": {
            "text/plain": [
              "<PIL.Image.Image image mode=RGB size=92x12>"
            ],
            "image/png": "[encoded data removed]"
          },
          "metadata": {},
          "execution_count": 155
        }
      ]
    },
    {
      "cell_type": "code",
      "source": [
        "#Display Longitude\n",
        "displayIm(longIm)\n"
      ],
      "metadata": {
        "colab": {
          "base_uri": "https://localhost:8080/",
          "height": 34
        },
        "id": "wY1Dx2Tnw483",
        "outputId": "26b88fcf-e661-4986-fda0-3c583287bb58"
      },
      "execution_count": 156,
      "outputs": [
        {
          "output_type": "execute_result",
          "data": {
            "text/plain": [
              "<PIL.Image.Image image mode=RGB size=46x12>"
            ],
            "image/png": "[encoded data removed]"
          },
          "metadata": {},
          "execution_count": 156
        }
      ]
    },
    {
      "cell_type": "code",
      "source": [
        "#Display Latitude\n",
        "displayIm(latIm)"
      ],
      "metadata": {
        "colab": {
          "base_uri": "https://localhost:8080/",
          "height": 34
        },
        "id": "6iQVsILYw6Ht",
        "outputId": "b7cb32e7-32be-4ffb-dab3-aac3221fe582"
      },
      "execution_count": 157,
      "outputs": [
        {
          "output_type": "execute_result",
          "data": {
            "text/plain": [
              "<PIL.Image.Image image mode=RGB size=51x12>"
            ],
            "image/png": "[encoded data removed]"
          },
          "metadata": {},
          "execution_count": 157
        }
      ]
    },
    {
      "cell_type": "code",
      "source": [
        "#Display Speed\n",
        "displayIm(speedIm)"
      ],
      "metadata": {
        "colab": {
          "base_uri": "https://localhost:8080/",
          "height": 34
        },
        "id": "oKN-MYCbw74F",
        "outputId": "af9c609f-af4b-4617-c9c5-7670f8554492"
      },
      "execution_count": 158,
      "outputs": [
        {
          "output_type": "execute_result",
          "data": {
            "text/plain": [
              "<PIL.Image.Image image mode=RGB size=40x12>"
            ],
            "image/png": "[encoded data removed]"
          },
          "metadata": {},
          "execution_count": 158
        }
      ]
    },
    {
      "cell_type": "code",
      "source": [
        "from PIL import ImageOps\n",
        "from PIL import ImageEnhance\n",
        "\n",
        "def imageProcVariable(CV2im):\n",
        "  #convert to pil\n",
        "  im_pil = Image.fromarray(CV2im)\n",
        "  im_pil = im_pil.convert('RGB')\n",
        "\n",
        "  #greyscale\n",
        "  gray_image = ImageOps.grayscale(im_pil)\n",
        "\n",
        "  #invert\n",
        "  inv = ImageOps.invert(gray_image)\n",
        "\n",
        "  #enhance contrast\n",
        "  enh = ImageEnhance.Contrast(inv)\n",
        "  enh = enh.enhance(2)\n",
        "\n",
        "  #binarize\n",
        "  threshold = 118\n",
        "  thresh = enh.point( lambda p: 255 if p > threshold else 0 )\n",
        "  bw = thresh.convert('1')\n",
        "\n",
        "  return bw"
      ],
      "metadata": {
        "id": "r9V831LBU27y"
      },
      "execution_count": 159,
      "outputs": []
    },
    {
      "metadata": {
        "id": "HaM3cMUDA_Ma"
      },
      "cell_type": "code",
      "source": [
        "longImProc = imageProcVariable(longIm)\n",
        "latImProc = imageProcVariable(latIm)\n",
        "speedImProc = imageProcVariable(speedIm)\n",
        "extractedLong = pytesseract.image_to_string(longImProc,config='--psm 7 -c tessedit_char_whitelist=NSEW0123456789.')\n",
        "extractedLat = pytesseract.image_to_string(latImProc,config='--psm 7 -c tessedit_char_whitelist=NSEW0123456789.')\n",
        "extractedSpeed = pytesseract.image_to_string(speedImProc,config='--psm 7 -c tessedit_char_whitelist=0123456789')"
      ],
      "execution_count": 160,
      "outputs": []
    },
    {
      "metadata": {
        "id": "Key-3vILBNUd",
        "colab": {
          "base_uri": "https://localhost:8080/"
        },
        "outputId": "d7a49c9c-a5a0-46f3-8400-c77da5a4080c"
      },
      "cell_type": "code",
      "source": [
        "import re\n",
        "def formatOCR(info):\n",
        "  #replace 'B' and 'O' if mistaken\n",
        "  ex = info.replace('B','8')\n",
        "  ex = ex.replace('O','0')\n",
        "\n",
        "  #remove any extra characters\n",
        "  rex = re.sub(r\"[^a-zA-Z0-9.]\",\" \",ex)\n",
        "\n",
        "  #remove trailing . or space\n",
        "  rex = rex.rstrip(\" \")\n",
        "  rex = rex.rstrip(\".\")\n",
        "\n",
        "  #replace mid space with '.'\n",
        "  rex = rex.replace(\" \", \".\")\n",
        "\n",
        "  #replace .. with .\n",
        "  rex = rex.replace(\"..\", \".\")\n",
        "  return rex\n",
        "\n",
        "def formatSpeed(info):\n",
        "  rex = re.sub(r\"[^0-9]\",\"\",info)\n",
        "  return rex\n",
        "\n",
        "longitude = formatOCR(extractedLong)\n",
        "latitude = formatOCR(extractedLat)\n",
        "speed = formatSpeed(extractedSpeed)\n",
        "\n",
        "print(\"longitude:\", longitude)\n",
        "print(\"latitude:\", latitude)\n",
        "print(\"speed:\", speed)"
      ],
      "execution_count": 161,
      "outputs": [
        {
          "output_type": "stream",
          "name": "stdout",
          "text": [
            "longitude: W0.938\n",
            "latitude: N53.260\n",
            "speed: 52\n"
          ]
        }
      ]
    }
  ]
}